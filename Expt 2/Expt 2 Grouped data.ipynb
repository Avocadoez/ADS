{
 "cells": [
  {
   "cell_type": "markdown",
   "id": "099b836e",
   "metadata": {},
   "source": [
    "# Program & Output (Grouped Data)"
   ]
  },
  {
   "cell_type": "code",
   "execution_count": 1,
   "id": "f9eeba95",
   "metadata": {},
   "outputs": [],
   "source": [
    "import pandas as pd\n",
    "import numpy as np\n",
    "import math"
   ]
  },
  {
   "cell_type": "code",
   "execution_count": 2,
   "id": "6b8069b9",
   "metadata": {},
   "outputs": [
    {
     "data": {
      "text/html": [
       "<div>\n",
       "<style scoped>\n",
       "    .dataframe tbody tr th:only-of-type {\n",
       "        vertical-align: middle;\n",
       "    }\n",
       "\n",
       "    .dataframe tbody tr th {\n",
       "        vertical-align: top;\n",
       "    }\n",
       "\n",
       "    .dataframe thead th {\n",
       "        text-align: right;\n",
       "    }\n",
       "</style>\n",
       "<table border=\"1\" class=\"dataframe\">\n",
       "  <thead>\n",
       "    <tr style=\"text-align: right;\">\n",
       "      <th></th>\n",
       "      <th>No. of Defectices</th>\n",
       "      <th>frequency</th>\n",
       "      <th>low</th>\n",
       "      <th>high</th>\n",
       "    </tr>\n",
       "  </thead>\n",
       "  <tbody>\n",
       "    <tr>\n",
       "      <th>0</th>\n",
       "      <td>0 - 2</td>\n",
       "      <td>3</td>\n",
       "      <td>0</td>\n",
       "      <td>2</td>\n",
       "    </tr>\n",
       "    <tr>\n",
       "      <th>1</th>\n",
       "      <td>2 - 4</td>\n",
       "      <td>4</td>\n",
       "      <td>2</td>\n",
       "      <td>4</td>\n",
       "    </tr>\n",
       "    <tr>\n",
       "      <th>2</th>\n",
       "      <td>4 - 6</td>\n",
       "      <td>5</td>\n",
       "      <td>4</td>\n",
       "      <td>6</td>\n",
       "    </tr>\n",
       "    <tr>\n",
       "      <th>3</th>\n",
       "      <td>6 - 8</td>\n",
       "      <td>3</td>\n",
       "      <td>6</td>\n",
       "      <td>8</td>\n",
       "    </tr>\n",
       "    <tr>\n",
       "      <th>4</th>\n",
       "      <td>8 - 10</td>\n",
       "      <td>1</td>\n",
       "      <td>8</td>\n",
       "      <td>10</td>\n",
       "    </tr>\n",
       "  </tbody>\n",
       "</table>\n",
       "</div>"
      ],
      "text/plain": [
       "  No. of Defectices  frequency  low  high\n",
       "0             0 - 2          3    0     2\n",
       "1             2 - 4          4    2     4\n",
       "2             4 - 6          5    4     6\n",
       "3             6 - 8          3    6     8\n",
       "4            8 - 10          1    8    10"
      ]
     },
     "execution_count": 2,
     "metadata": {},
     "output_type": "execute_result"
    }
   ],
   "source": [
    "df = pd.DataFrame({\n",
    "    'No. of Defectices': ['0 - 2', '2 - 4', '4 - 6', '6 - 8', '8 - 10'],\n",
    "    'frequency': [3, 4, 5, 3, 1]\n",
    "})\n",
    "\n",
    "def low_high(df, column_name):\n",
    "    df['low'] = df.apply(lambda row: int(row[column_name][0]), axis=1)\n",
    "    df['high'] = df.apply(lambda row: int(row[column_name].split('-')[-1]), axis=1)\n",
    "\n",
    "low_high(df, 'No. of Defectices')\n",
    "df"
   ]
  },
  {
   "cell_type": "markdown",
   "id": "be704370",
   "metadata": {},
   "source": [
    "# Mean for Grouped Data"
   ]
  },
  {
   "cell_type": "code",
   "execution_count": 3,
   "id": "11bef262",
   "metadata": {},
   "outputs": [
    {
     "data": {
      "text/html": [
       "<div>\n",
       "<style scoped>\n",
       "    .dataframe tbody tr th:only-of-type {\n",
       "        vertical-align: middle;\n",
       "    }\n",
       "\n",
       "    .dataframe tbody tr th {\n",
       "        vertical-align: top;\n",
       "    }\n",
       "\n",
       "    .dataframe thead th {\n",
       "        text-align: right;\n",
       "    }\n",
       "</style>\n",
       "<table border=\"1\" class=\"dataframe\">\n",
       "  <thead>\n",
       "    <tr style=\"text-align: right;\">\n",
       "      <th></th>\n",
       "      <th>No. of Defectices</th>\n",
       "      <th>frequency</th>\n",
       "      <th>low</th>\n",
       "      <th>high</th>\n",
       "      <th>classmark</th>\n",
       "      <th>f.x</th>\n",
       "    </tr>\n",
       "  </thead>\n",
       "  <tbody>\n",
       "    <tr>\n",
       "      <th>0</th>\n",
       "      <td>0 - 2</td>\n",
       "      <td>3</td>\n",
       "      <td>0</td>\n",
       "      <td>2</td>\n",
       "      <td>1.0</td>\n",
       "      <td>3.0</td>\n",
       "    </tr>\n",
       "    <tr>\n",
       "      <th>1</th>\n",
       "      <td>2 - 4</td>\n",
       "      <td>4</td>\n",
       "      <td>2</td>\n",
       "      <td>4</td>\n",
       "      <td>3.0</td>\n",
       "      <td>12.0</td>\n",
       "    </tr>\n",
       "    <tr>\n",
       "      <th>2</th>\n",
       "      <td>4 - 6</td>\n",
       "      <td>5</td>\n",
       "      <td>4</td>\n",
       "      <td>6</td>\n",
       "      <td>5.0</td>\n",
       "      <td>25.0</td>\n",
       "    </tr>\n",
       "    <tr>\n",
       "      <th>3</th>\n",
       "      <td>6 - 8</td>\n",
       "      <td>3</td>\n",
       "      <td>6</td>\n",
       "      <td>8</td>\n",
       "      <td>7.0</td>\n",
       "      <td>21.0</td>\n",
       "    </tr>\n",
       "    <tr>\n",
       "      <th>4</th>\n",
       "      <td>8 - 10</td>\n",
       "      <td>1</td>\n",
       "      <td>8</td>\n",
       "      <td>10</td>\n",
       "      <td>9.0</td>\n",
       "      <td>9.0</td>\n",
       "    </tr>\n",
       "  </tbody>\n",
       "</table>\n",
       "</div>"
      ],
      "text/plain": [
       "  No. of Defectices  frequency  low  high  classmark   f.x\n",
       "0             0 - 2          3    0     2        1.0   3.0\n",
       "1             2 - 4          4    2     4        3.0  12.0\n",
       "2             4 - 6          5    4     6        5.0  25.0\n",
       "3             6 - 8          3    6     8        7.0  21.0\n",
       "4            8 - 10          1    8    10        9.0   9.0"
      ]
     },
     "execution_count": 3,
     "metadata": {},
     "output_type": "execute_result"
    }
   ],
   "source": [
    "# calculating classmark(x) and f.x\n",
    "df1 = df.copy()\n",
    "df1['classmark'] = (df1['low'] + df1['high'])/2\n",
    "df1['f.x'] = df1.apply(lambda row: row['frequency']*row['classmark'], axis=1)\n",
    "df1"
   ]
  },
  {
   "cell_type": "code",
   "execution_count": 4,
   "id": "40146c97",
   "metadata": {},
   "outputs": [
    {
     "name": "stdout",
     "output_type": "stream",
     "text": [
      "Mean: 4.375\n"
     ]
    }
   ],
   "source": [
    "# applying the mean formula\n",
    "mean = df1['f.x'].sum() / df1['frequency'].sum()\n",
    "print(f'Mean: {mean}')"
   ]
  },
  {
   "cell_type": "markdown",
   "id": "bb32c4ed",
   "metadata": {},
   "source": [
    "# Median for Grouped Data"
   ]
  },
  {
   "cell_type": "code",
   "execution_count": 5,
   "id": "d78ffb66",
   "metadata": {},
   "outputs": [
    {
     "data": {
      "text/html": [
       "<div>\n",
       "<style scoped>\n",
       "    .dataframe tbody tr th:only-of-type {\n",
       "        vertical-align: middle;\n",
       "    }\n",
       "\n",
       "    .dataframe tbody tr th {\n",
       "        vertical-align: top;\n",
       "    }\n",
       "\n",
       "    .dataframe thead th {\n",
       "        text-align: right;\n",
       "    }\n",
       "</style>\n",
       "<table border=\"1\" class=\"dataframe\">\n",
       "  <thead>\n",
       "    <tr style=\"text-align: right;\">\n",
       "      <th></th>\n",
       "      <th>No. of Defectices</th>\n",
       "      <th>frequency</th>\n",
       "      <th>low</th>\n",
       "      <th>high</th>\n",
       "      <th>cf</th>\n",
       "    </tr>\n",
       "  </thead>\n",
       "  <tbody>\n",
       "    <tr>\n",
       "      <th>0</th>\n",
       "      <td>0 - 2</td>\n",
       "      <td>3</td>\n",
       "      <td>0</td>\n",
       "      <td>2</td>\n",
       "      <td>3</td>\n",
       "    </tr>\n",
       "    <tr>\n",
       "      <th>1</th>\n",
       "      <td>2 - 4</td>\n",
       "      <td>4</td>\n",
       "      <td>2</td>\n",
       "      <td>4</td>\n",
       "      <td>7</td>\n",
       "    </tr>\n",
       "    <tr>\n",
       "      <th>2</th>\n",
       "      <td>4 - 6</td>\n",
       "      <td>5</td>\n",
       "      <td>4</td>\n",
       "      <td>6</td>\n",
       "      <td>12</td>\n",
       "    </tr>\n",
       "    <tr>\n",
       "      <th>3</th>\n",
       "      <td>6 - 8</td>\n",
       "      <td>3</td>\n",
       "      <td>6</td>\n",
       "      <td>8</td>\n",
       "      <td>15</td>\n",
       "    </tr>\n",
       "    <tr>\n",
       "      <th>4</th>\n",
       "      <td>8 - 10</td>\n",
       "      <td>1</td>\n",
       "      <td>8</td>\n",
       "      <td>10</td>\n",
       "      <td>16</td>\n",
       "    </tr>\n",
       "  </tbody>\n",
       "</table>\n",
       "</div>"
      ],
      "text/plain": [
       "  No. of Defectices  frequency  low  high  cf\n",
       "0             0 - 2          3    0     2   3\n",
       "1             2 - 4          4    2     4   7\n",
       "2             4 - 6          5    4     6  12\n",
       "3             6 - 8          3    6     8  15\n",
       "4            8 - 10          1    8    10  16"
      ]
     },
     "execution_count": 5,
     "metadata": {},
     "output_type": "execute_result"
    }
   ],
   "source": [
    "df2 = df.copy()\n",
    "\n",
    "# calculating cummalative frequency\n",
    "c = 0\n",
    "def calculate_cf(row):\n",
    "    global c\n",
    "    if c == 0: c = row['frequency']\n",
    "    else: c = c + row['frequency'] \n",
    "    return c\n",
    "    \n",
    "# calculating N/2\n",
    "n_by_2 = df2['frequency'].sum()/2\n",
    "\n",
    "df2['cf'] = df2.apply(lambda row: calculate_cf(row), axis=1)\n",
    "df2"
   ]
  },
  {
   "cell_type": "code",
   "execution_count": 9,
   "id": "3616ae83",
   "metadata": {},
   "outputs": [
    {
     "data": {
      "text/plain": [
       "4"
      ]
     },
     "execution_count": 9,
     "metadata": {},
     "output_type": "execute_result"
    }
   ],
   "source": [
    "L"
   ]
  },
  {
   "cell_type": "code",
   "execution_count": 7,
   "id": "38ff0c21",
   "metadata": {},
   "outputs": [],
   "source": [
    "def get_median_class():\n",
    "    for index, row in df2.iterrows():\n",
    "        if row['cf'] > n_by_2:\n",
    "            return row, index\n",
    "    \n",
    "median_class, class_index = get_median_class()"
   ]
  },
  {
   "cell_type": "code",
   "execution_count": 8,
   "id": "84436456",
   "metadata": {},
   "outputs": [
    {
     "name": "stdout",
     "output_type": "stream",
     "text": [
      "Median: 4.4\n"
     ]
    }
   ],
   "source": [
    "# applying the median formula\n",
    "L = median_class['low']\n",
    "cf = int(df2.loc[class_index - 1: class_index - 1]['cf'])\n",
    "f = median_class['frequency']\n",
    "h = median_class['high'] - median_class['low']\n",
    "\n",
    "median = L + ((n_by_2 - cf) / f)*h\n",
    "print(f'Median: {median}')"
   ]
  },
  {
   "cell_type": "markdown",
   "id": "24806ae1",
   "metadata": {},
   "source": [
    "# Mode for Grouped Data"
   ]
  },
  {
   "cell_type": "code",
   "execution_count": 10,
   "id": "4d9a10d6",
   "metadata": {},
   "outputs": [],
   "source": [
    "df3 = df.copy()\n",
    "\n",
    "def get_modal_class():\n",
    "    for index, row in df3.iterrows():\n",
    "        if row['frequency'] == df3['frequency'].max():\n",
    "            return row, index\n",
    "\n",
    "modal_class, class_index_mode = get_modal_class()"
   ]
  },
  {
   "cell_type": "code",
   "execution_count": 11,
   "id": "28f87610",
   "metadata": {},
   "outputs": [
    {
     "name": "stdout",
     "output_type": "stream",
     "text": [
      "Mode: 4.666666666666667\n"
     ]
    }
   ],
   "source": [
    "# applying the mode formula\n",
    "L = modal_class['low']\n",
    "f1 = modal_class['frequency']\n",
    "f0 = int(df3.loc[class_index_mode - 1: class_index_mode - 1]['frequency'])\n",
    "f2 = int(df3.loc[class_index_mode + 1: class_index_mode + 1]['frequency'])\n",
    "h = modal_class['high'] - modal_class['low']\n",
    "\n",
    "mode = L + ((f1 - f0) / (2*f1 - f0 - f2))*h\n",
    "print(f'Mode: {mode}')"
   ]
  },
  {
   "cell_type": "code",
   "execution_count": 12,
   "id": "ebcfea69",
   "metadata": {},
   "outputs": [
    {
     "data": {
      "text/plain": [
       "4"
      ]
     },
     "execution_count": 12,
     "metadata": {},
     "output_type": "execute_result"
    }
   ],
   "source": [
    "L"
   ]
  },
  {
   "cell_type": "markdown",
   "id": "8a04bf9b",
   "metadata": {},
   "source": [
    "# Variance & Standard Deviation for Grouped Data"
   ]
  },
  {
   "cell_type": "code",
   "execution_count": 13,
   "id": "df412bd5",
   "metadata": {},
   "outputs": [
    {
     "name": "stdout",
     "output_type": "stream",
     "text": [
      "Variance: 17.15\n",
      "Standard Deviation: 4.141255848169731\n"
     ]
    }
   ],
   "source": [
    "df4 = df1.copy()\n",
    "\n",
    "df4['f.(x-x_mean)^2'] = df4['frequency'] * (df4['classmark'] - mean)*(df4['classmark'] - mean)\n",
    "\n",
    "variance = df4['f.(x-x_mean)^2'].sum() / df4.count().max()\n",
    "standard_deviation = math.sqrt(variance)\n",
    "print(f'Variance: {variance}')\n",
    "print(f'Standard Deviation: {standard_deviation}')"
   ]
  },
  {
   "cell_type": "code",
   "execution_count": 17,
   "id": "bdff27f4",
   "metadata": {},
   "outputs": [
    {
     "data": {
      "text/plain": [
       "5"
      ]
     },
     "execution_count": 17,
     "metadata": {},
     "output_type": "execute_result"
    }
   ],
   "source": [
    "df4['f.(x-x_mean)^2'].sum()\n",
    "df4.count().max()"
   ]
  },
  {
   "cell_type": "markdown",
   "id": "abf73e89",
   "metadata": {},
   "source": [
    "# Skewness for Grouped Data"
   ]
  },
  {
   "cell_type": "code",
   "execution_count": 124,
   "id": "604469b6",
   "metadata": {},
   "outputs": [
    {
     "name": "stdout",
     "output_type": "stream",
     "text": [
      "Skewness: -0.07042952122737646\n",
      "It is little negatively skewed!\n"
     ]
    }
   ],
   "source": [
    "skewness = (mean - mode) / standard_deviation\n",
    "print(f'Skewness: {skewness}')\n",
    "if skewness > 0 and skewness < 0.4:\n",
    "    print('It is little positively skewed!')\n",
    "elif skewness >= 0.4 and skewness < 1:\n",
    "    print('It is moderately positively skewed!')\n",
    "elif skewness >= 1:\n",
    "    print('It is highly positively skewed!')\n",
    "elif skewness > -0.4 and skewness < 0:\n",
    "    print('It is little negatively skewed!')\n",
    "elif skewness > -1 and skewness <= 0.4:\n",
    "    print('It is moderately negatively skewed!')\n",
    "elif skewness <= 1:\n",
    "    print('It is highly negatively skewed!')\n",
    "else:\n",
    "    print('It is not skewed!')"
   ]
  },
  {
   "cell_type": "code",
   "execution_count": null,
   "id": "3b8b3d3f",
   "metadata": {},
   "outputs": [],
   "source": []
  }
 ],
 "metadata": {
  "kernelspec": {
   "display_name": "Python 3 (ipykernel)",
   "language": "python",
   "name": "python3"
  },
  "language_info": {
   "codemirror_mode": {
    "name": "ipython",
    "version": 3
   },
   "file_extension": ".py",
   "mimetype": "text/x-python",
   "name": "python",
   "nbconvert_exporter": "python",
   "pygments_lexer": "ipython3",
   "version": "3.9.7"
  }
 },
 "nbformat": 4,
 "nbformat_minor": 5
}
